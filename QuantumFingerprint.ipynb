{
 "cells": [
  {
   "cell_type": "code",
   "execution_count": 1,
   "id": "1b9ee746",
   "metadata": {},
   "outputs": [],
   "source": [
    "import random\n",
    "from bitstring import BitArray\n",
    "import math\n",
    "from qiskit import *\n",
    "import numpy as np\n",
    "from math import *\n",
    "from qiskit.extensions import *\n",
    "from qiskit.quantum_info import Statevector\n",
    "from qiskit.tools.visualization import plot_histogram\n",
    "from qiskit.tools.visualization import plot_histogram\n",
    "from numpy.random import randint\n",
    "import pandas as pd\n",
    "from fractions import Fraction\n",
    "from qiskit.circuit.library import QFT"
   ]
  },
  {
   "cell_type": "code",
   "execution_count": 2,
   "id": "766487f3",
   "metadata": {},
   "outputs": [],
   "source": [
    "#SHARED KEYS\n",
    "def gen_key():\n",
    "    key = random.randbytes(random.randint(1, 2048))\n",
    "    key_bits = BitArray(key).bin\n",
    "    fingerprint = math.log(int(key_bits, 2), 2)\n",
    "    return fingerprint"
   ]
  },
  {
   "cell_type": "code",
   "execution_count": 3,
   "id": "0ddf3f4b",
   "metadata": {},
   "outputs": [],
   "source": [
    "def referee_shared_key():\n",
    "    shared_key = gen_key()\n",
    "    key_Alice = shared_key\n",
    "    key_Bob = shared_key\n",
    "    return key_Alice, key_Bob\n"
   ]
  },
  {
   "cell_type": "code",
   "execution_count": 4,
   "id": "21a4ec79",
   "metadata": {},
   "outputs": [],
   "source": [
    "def referee_dif_key():\n",
    "    key_Alice = gen_key()\n",
    "    key_Bob = gen_key()\n",
    "    return key_Alice, key_Bob\n"
   ]
  },
  {
   "cell_type": "code",
   "execution_count": 5,
   "id": "1fc96612",
   "metadata": {
    "scrolled": false
   },
   "outputs": [
    {
     "name": "stdout",
     "output_type": "stream",
     "text": [
      "Shared key:\n",
      "\n",
      "Alice's key: 8053.588273777581 \n",
      "Bob's key: 8053.588273777581 \n",
      "\n",
      "      ┌───┐   ┌───┐┌─┐\n",
      "q0_0: ┤ H ├─■─┤ H ├┤M├\n",
      "      └───┘ │ └───┘└╥┘\n",
      "q0_1: ──────X───────╫─\n",
      "            │       ║ \n",
      "q0_2: ──────X───────╫─\n",
      "                    ║ \n",
      "c0: 2/══════════════╩═\n",
      "                    0 \n",
      "Statevector([1.-6.123234e-17j, 0.+0.000000e+00j, 0.+0.000000e+00j,\n",
      "             0.+0.000000e+00j, 0.+0.000000e+00j, 0.+0.000000e+00j,\n",
      "             0.+0.000000e+00j, 0.+0.000000e+00j],\n",
      "            dims=(2, 2, 2))\n"
     ]
    },
    {
     "data": {
      "image/png": "[encoded data removed]",
      "text/plain": [
       "<Figure size 504x360 with 1 Axes>"
      ]
     },
     "execution_count": 5,
     "metadata": {},
     "output_type": "execute_result"
    }
   ],
   "source": [
    "print(\"Shared key:\")\n",
    "Alice,Bob=referee_shared_key()\n",
    "print(\"\\nAlice's key:\", Alice, \"\\nBob's key:\", Bob, \"\\n\")\n",
    "q = QuantumRegister(3)\n",
    "c = ClassicalRegister(2)\n",
    "circuit = QuantumCircuit(q,c)\n",
    "\n",
    "circuit.h(q[0])\n",
    "\n",
    "#circuit.x(q[2])\n",
    "circuit.cswap(q[0], q[1], q[2])\n",
    "circuit.h(q[0])\n",
    "\n",
    "circuit.measure(q[0], c[0])\n",
    "\n",
    "\n",
    "\n",
    "#circuit.measure(q[0], c[0])\n",
    "print(circuit.draw())\n",
    "\n",
    "vector_sim = Aer.get_backend('statevector_simulator')\n",
    "job = execute(circuit, vector_sim)\n",
    "state = job.result().get_statevector()\n",
    "print(state)\n",
    "\n",
    "\n",
    "circuit.measure(q[0], c[0])\n",
    "simulator = Aer.get_backend('qasm_simulator')\n",
    "result = execute(circuit, backend = simulator, shots = 1000000).result()\n",
    "plot_histogram(result.get_counts(circuit)) "
   ]
  },
  {
   "cell_type": "markdown",
   "id": "ce247e5d",
   "metadata": {},
   "source": [
    "## What happens if someone try's a random key (like in a brute-force attack)?"
   ]
  },
  {
   "cell_type": "code",
   "execution_count": 6,
   "id": "35868493",
   "metadata": {},
   "outputs": [
    {
     "name": "stdout",
     "output_type": "stream",
     "text": [
      "Case the keys not match:\n",
      "\n",
      "Alice's key: 11735.827554672882 \n",
      "Bob's key: 3710.9247817474825 \n",
      "\n",
      "       ┌───┐   ┌───┐┌─┐\n",
      "q17_0: ┤ H ├─■─┤ H ├┤M├\n",
      "       └───┘ │ └───┘└╥┘\n",
      "q17_1: ──────X───────╫─\n",
      "       ┌───┐ │       ║ \n",
      "q17_2: ┤ X ├─X───────╫─\n",
      "       └───┘         ║ \n",
      " c1: 2/══════════════╩═\n",
      "                     0 \n",
      "Statevector([ 0.        +0.00000000e+00j,  0.        +0.00000000e+00j,\n",
      "              0.70710678-8.65956056e-17j, -0.        +0.00000000e+00j,\n",
      "              0.70710678+0.00000000e+00j,  0.        +0.00000000e+00j,\n",
      "              0.        +0.00000000e+00j,  0.        +0.00000000e+00j],\n",
      "            dims=(2, 2, 2))\n"
     ]
    },
    {
     "data": {
      "image/png": "[encoded data removed]",
      "text/plain": [
       "<Figure size 504x360 with 1 Axes>"
      ]
     },
     "execution_count": 6,
     "metadata": {},
     "output_type": "execute_result"
    }
   ],
   "source": [
    "print(\"Case the keys not match:\")\n",
    "Alice,Bob=referee_dif_key()\n",
    "print(\"\\nAlice's key:\", Alice, \"\\nBob's key:\", Bob, \"\\n\")\n",
    "b = False\n",
    "q = QuantumRegister(3)\n",
    "c = ClassicalRegister(2)\n",
    "circuit = QuantumCircuit(q,c)\n",
    "\n",
    "circuit.h(q[0])\n",
    "if b == False:\n",
    "    circuit.x(q[2])\n",
    "circuit.cswap(q[0], q[1], q[2])\n",
    "circuit.h(q[0])\n",
    "\n",
    "circuit.measure(q[0], c[0])\n",
    "\n",
    "print(circuit.draw())\n",
    "\n",
    "vector_sim = Aer.get_backend('statevector_simulator')\n",
    "job = execute(circuit, vector_sim)\n",
    "state = job.result().get_statevector()\n",
    "print(state)\n",
    "\n",
    "\n",
    "circuit.measure(q[0], c[0])\n",
    "simulator = Aer.get_backend('qasm_simulator')\n",
    "result = execute(circuit, backend = simulator, shots = 1000000).result()\n",
    "plot_histogram(result.get_counts(circuit))      #depending on the inputs, if input 1 and input 2 are the same, the output will be 0 with 100% probability. If the inputs differ, the outputs will differ too\n",
    "\n",
    "\n",
    "#PROBLEM: Some error probability"
   ]
  },
  {
   "cell_type": "markdown",
   "id": "c2cedaae",
   "metadata": {},
   "source": [
    "# Entangled keys using Bell-States"
   ]
  },
  {
   "cell_type": "code",
   "execution_count": 7,
   "id": "01fd0ed3",
   "metadata": {},
   "outputs": [
    {
     "name": "stdout",
     "output_type": "stream",
     "text": [
      "       ┌───┐     \n",
      "q38_0: ┤ H ├──■──\n",
      "       └───┘┌─┴─┐\n",
      "q38_1: ─────┤ X ├\n",
      "            └───┘\n",
      " c2: 2/══════════\n",
      "                 \n",
      "Statevector([0.70710678+0.j, 0.        +0.j, 0.        +0.j,\n",
      "             0.70710678+0.j],\n",
      "            dims=(2, 2))\n"
     ]
    },
    {
     "data": {
      "image/png": "[encoded data removed]",
      "text/plain": [
       "<Figure size 504x360 with 1 Axes>"
      ]
     },
     "execution_count": 7,
     "metadata": {},
     "output_type": "execute_result"
    }
   ],
   "source": [
    "#USING SHARED-KEYS C0NSISTING OF LOG(N-BIT, 2) BELL STATES\n",
    "q = QuantumRegister(2)\n",
    "c = ClassicalRegister(2)\n",
    "circuit = QuantumCircuit(q,c)\n",
    "\n",
    "circuit.h(q[0])\n",
    "circuit.cx(q[0],q[1])\n",
    "\n",
    "#circuit.measure(q[0], c[0])\n",
    "#circuit.measure(q[1], c[0])\n",
    "\n",
    "\n",
    "#circuit.measure(q[0], c[0])\n",
    "print(circuit.draw())\n",
    "\n",
    "vector_sim = Aer.get_backend('statevector_simulator')\n",
    "job = execute(circuit, vector_sim)\n",
    "state = job.result().get_statevector()\n",
    "print(state)\n",
    "\n",
    "\n",
    "circuit.measure(q[0], c[0])\n",
    "simulator = Aer.get_backend('qasm_simulator')\n",
    "result = execute(circuit, backend = simulator, shots = 1).result()\n",
    "plot_histogram(result.get_counts(circuit))      #depending on the inputs, if input 1 and input 2 are the same, the output will be 0 with 100% probability. If the inputs differ, the outputs will differ too\n"
   ]
  },
  {
   "cell_type": "code",
   "execution_count": 8,
   "id": "b59a4a25",
   "metadata": {},
   "outputs": [
    {
     "data": {
      "text/html": [
       "<pre style=\"word-wrap: normal;white-space: pre;background: #fff0;line-height: 1.1;font-family: &quot;Courier New&quot;,Courier,monospace\">                                          ┌───┐   ┌───┐   ┌───┐\n",
       "q_0: ──────■──────────────────────■───────┤ H ├─X─┤ H ├─■─┤ H ├\n",
       "           │                ┌───┐ │P(π/2) └───┘ │ └───┘ │ └───┘\n",
       "q_1: ──────┼────────■───────┤ H ├─■─────────────┼───────X──────\n",
       "     ┌───┐ │P(π/4)  │P(π/2) └───┘               │       │      \n",
       "q_2: ┤ H ├─■────────■───────────────────────────X───────X──────\n",
       "     └───┘                                                     </pre>"
      ],
      "text/plain": [
       "                                          ┌───┐   ┌───┐   ┌───┐\n",
       "q_0: ──────■──────────────────────■───────┤ H ├─X─┤ H ├─■─┤ H ├\n",
       "           │                ┌───┐ │P(π/2) └───┘ │ └───┘ │ └───┘\n",
       "q_1: ──────┼────────■───────┤ H ├─■─────────────┼───────X──────\n",
       "     ┌───┐ │P(π/4)  │P(π/2) └───┘               │       │      \n",
       "q_2: ┤ H ├─■────────■───────────────────────────X───────X──────\n",
       "     └───┘                                                     "
      ]
     },
     "execution_count": 8,
     "metadata": {},
     "output_type": "execute_result"
    }
   ],
   "source": [
    "def qft_rotations(circuit, n):\n",
    "    \"\"\"Performs qft on the first n qubits in circuit (without swaps)\"\"\"\n",
    "    if n == 0:\n",
    "        return circuit\n",
    "    n -= 1\n",
    "    circuit.h(n)\n",
    "    for qubit in range(n):\n",
    "        circuit.cp(math.pi/2**(n-qubit), qubit, n)\n",
    "    \n",
    "    \n",
    "    #circuit.h(0)\n",
    "    #circuit.cswap(n,n,n+2)\n",
    "    qft_rotations(circuit, n)\n",
    "\n",
    "def swap_registers(circuit, n):\n",
    "    for qubit in range(n//2):\n",
    "        circuit.swap(qubit, n-qubit-1)\n",
    "    return circuit\n",
    "\n",
    "def qft(circuit, n):\n",
    "    \"\"\"QFT on the first n qubits in circuit\"\"\"\n",
    "    qft_rotations(circuit, n)\n",
    "    swap_registers(circuit, n)\n",
    "    return circuit\n",
    "\n",
    "# Let's see how it looks:\n",
    "\n",
    "\n",
    "\n",
    "qc = QuantumCircuit(3)\n",
    "q = QuantumRegister(3)\n",
    "c = ClassicalRegister(3)\n",
    "\n",
    "qft(qc,3)\n",
    "\n",
    "#circuit.h(q[0])\n",
    "qc.h(0)\n",
    "qc.cswap(0,1,2)\n",
    "qc.h(0)\n",
    "\n",
    "qc.draw()"
   ]
  },
  {
   "cell_type": "code",
   "execution_count": 14,
   "id": "0445e0ee",
   "metadata": {},
   "outputs": [
    {
     "name": "stdout",
     "output_type": "stream",
     "text": [
      "                                             ┌───┐   ┌───┐   ┌───┐   ┌───┐»\n",
      "   q_0: ──────■──────────────────────■───────┤ H ├─X─┤ H ├─■─┤ H ├─X─┤ H ├»\n",
      "              │                ┌───┐ │P(π/2) └───┘ │ └───┘ │ └───┘ │ └───┘»\n",
      "   q_1: ──────┼────────■───────┤ H ├─■─────────────┼───────X───────┼──────»\n",
      "        ┌───┐ │P(π/4)  │P(π/2) └───┘               │       │       │      »\n",
      "   q_2: ┤ H ├─■────────■───────────────────────────X───────X───────X──────»\n",
      "        └───┘                                                             »\n",
      "meas: 3/══════════════════════════════════════════════════════════════════»\n",
      "                                                                          »\n",
      "«                                                 ░ ┌─┐      \n",
      "«   q_0: ─■────────────────────────■──────────────░─┤M├──────\n",
      "«         │P(-π/2) ┌───┐           │              ░ └╥┘┌─┐   \n",
      "«   q_1: ─■────────┤ H ├─■─────────┼──────────────░──╫─┤M├───\n",
      "«                  └───┘ │P(-π/2)  │P(-π/4) ┌───┐ ░  ║ └╥┘┌─┐\n",
      "«   q_2: ────────────────■─────────■────────┤ H ├─░──╫──╫─┤M├\n",
      "«                                           └───┘ ░  ║  ║ └╥┘\n",
      "«meas: 3/════════════════════════════════════════════╩══╩══╩═\n",
      "«                                                    0  1  2 \n"
     ]
    },
    {
     "name": "stderr",
     "output_type": "stream",
     "text": [
      "C:\\Users\\AndréMSGrilo\\AppData\\Local\\Temp\\ipykernel_35032\\554854367.py:51: DeprecationWarning: The QuantumCircuit.__iadd__() method is being deprecated. Use the compose() (potentially with the inplace=True argument) and tensor() methods which are more flexible w.r.t circuit register compatibility.\n",
      "  qc+=invqft_circ\n"
     ]
    }
   ],
   "source": [
    "qc = QuantumCircuit(3)\n",
    "q = QuantumRegister(3)\n",
    "c = ClassicalRegister(3)\n",
    "\n",
    "def qft_rotations(circuit, n):\n",
    "    \"\"\"Performs qft on the first n qubits in circuit (without swaps)\"\"\"\n",
    "    if n == 0:\n",
    "        return circuit\n",
    "    n -= 1\n",
    "    circuit.h(n)\n",
    "    for qubit in range(n):\n",
    "        circuit.cp(math.pi/2**(n-qubit), qubit, n)\n",
    "    \n",
    "    \n",
    "    #circuit.h(0)\n",
    "    #circuit.cswap(n,n,n+2)\n",
    "    qft_rotations(circuit, n)\n",
    "\n",
    "def swap_registers(circuit, n):\n",
    "    for qubit in range(n//2):\n",
    "        circuit.swap(qubit, n-qubit-1)\n",
    "    return circuit\n",
    "\n",
    "def qft(circuit, n):\n",
    "    \"\"\"QFT on the first n qubits in circuit\"\"\"\n",
    "    qft_rotations(circuit, n)\n",
    "    swap_registers(circuit, n)\n",
    "    return circuit\n",
    "\n",
    "def inverse_qft(circuit, n):\n",
    "    \"\"\"Does the inverse QFT on the first n qubits in circuit\"\"\"\n",
    "    qft_circ = qft(QuantumCircuit(n), n)\n",
    "    invqft_circ = qft_circ.inverse()\n",
    "    circuit.append(invqft_circ, circuit.qubits[:n])\n",
    "    return circuit.decompose() \n",
    "\n",
    "#qc = inverse_qft(qc, nqubits)\n",
    "#qc.measure_all()\n",
    "\n",
    "qft(qc,3)\n",
    "#qc+=QFT(num_qubits=3, approximation_degree=0, do_swaps=True, inverse=False, insert_barriers=True, name='qft1')\n",
    "qc.h(0)\n",
    "qc.cswap(0,1,2)\n",
    "qc.h(0)\n",
    "\n",
    "\n",
    "#qc+=QFT(num_qubits=3, approximation_degree=0, do_swaps=True, inverse=True, insert_barriers=True, name='qft1')\n",
    "\n",
    "qft_circ = qft(QuantumCircuit(3), 3)\n",
    "invqft_circ = qft_circ.inverse()\n",
    "qc+=invqft_circ\n",
    "qc.measure_all()\n",
    "print(qc.draw())"
   ]
  },
  {
   "cell_type": "code",
   "execution_count": null,
   "id": "dc9d1ecc",
   "metadata": {},
   "outputs": [],
   "source": []
  }
 ],
 "metadata": {
  "kernelspec": {
   "display_name": "Python 3 (ipykernel)",
   "language": "python",
   "name": "python3"
  },
  "language_info": {
   "codemirror_mode": {
    "name": "ipython",
    "version": 3
   },
   "file_extension": ".py",
   "mimetype": "text/x-python",
   "name": "python",
   "nbconvert_exporter": "python",
   "pygments_lexer": "ipython3",
   "version": "3.9.12"
  }
 },
 "nbformat": 4,
 "nbformat_minor": 5
}
